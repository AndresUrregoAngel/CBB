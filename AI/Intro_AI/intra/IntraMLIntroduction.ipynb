{
  "nbformat": 4,
  "nbformat_minor": 0,
  "metadata": {
    "colab": {
      "name": "IntraMLIntroduction.ipynb",
      "version": "0.3.2",
      "provenance": [],
      "include_colab_link": true
    },
    "kernelspec": {
      "name": "python3",
      "display_name": "Python 3"
    }
  },
  "cells": [
    {
      "cell_type": "markdown",
      "metadata": {
        "id": "view-in-github",
        "colab_type": "text"
      },
      "source": [
        "<a href=\"https://colab.research.google.com/github/AndresUrregoAngel/CBB/blob/master/AI/Intro_AI/intra/IntraMLIntroduction.ipynb\" target=\"_parent\"><img src=\"https://colab.research.google.com/assets/colab-badge.svg\" alt=\"Open In Colab\"/></a>"
      ]
    },
    {
      "cell_type": "markdown",
      "metadata": {
        "id": "FT9DUnriwuUM",
        "colab_type": "text"
      },
      "source": [
        "Andres Urrego Angel\n",
        "\n",
        "\n",
        "This Intra project will use a calls support dataset based on the primary language attention for immigrant people at use requesting for an interpreate service. The dataset contains data for the month of April for the years 2015,2016 and 2017.\n",
        "\n",
        "**Predictions:**\n",
        "\n",
        "* Linear Regresion to predict the minutes lenght of a call\n",
        "* Classification to predict the language of a call\n",
        "\n",
        "Here, is a quick description of the dataset columns.\n",
        "\n",
        "* State: US state getting the call\n",
        "* Language: Primary language for the caller\n",
        "* Minutes: Call lenght based on minutes\n",
        "* Month : Call month\n",
        "* Year: Call year"
      ]
    },
    {
      "cell_type": "code",
      "metadata": {
        "id": "-Dwv-uF-wvRL",
        "colab_type": "code",
        "outputId": "295a7af5-3fe3-40a1-bc03-5b391e76bda6",
        "colab": {
          "base_uri": "https://localhost:8080/",
          "height": 204
        }
      },
      "source": [
        "import pandas as pd\n",
        "\n",
        "\n",
        "df = pd.read_csv('https://raw.githubusercontent.com/AndresUrregoAngel/CBB/master/AI/Intro_AI/intra/MinutesInterpretateCall.csv',header=0)\n",
        "df.head(n=5)\n"
      ],
      "execution_count": 2,
      "outputs": [
        {
          "output_type": "execute_result",
          "data": {
            "text/html": [
              "<div>\n",
              "<style scoped>\n",
              "    .dataframe tbody tr th:only-of-type {\n",
              "        vertical-align: middle;\n",
              "    }\n",
              "\n",
              "    .dataframe tbody tr th {\n",
              "        vertical-align: top;\n",
              "    }\n",
              "\n",
              "    .dataframe thead th {\n",
              "        text-align: right;\n",
              "    }\n",
              "</style>\n",
              "<table border=\"1\" class=\"dataframe\">\n",
              "  <thead>\n",
              "    <tr style=\"text-align: right;\">\n",
              "      <th></th>\n",
              "      <th>State</th>\n",
              "      <th>Language</th>\n",
              "      <th>Minutes</th>\n",
              "      <th>Month</th>\n",
              "      <th>Year</th>\n",
              "    </tr>\n",
              "  </thead>\n",
              "  <tbody>\n",
              "    <tr>\n",
              "      <th>0</th>\n",
              "      <td>Austin</td>\n",
              "      <td>Spanish</td>\n",
              "      <td>27.0</td>\n",
              "      <td>4</td>\n",
              "      <td>2015</td>\n",
              "    </tr>\n",
              "    <tr>\n",
              "      <th>1</th>\n",
              "      <td>Chicago</td>\n",
              "      <td>Polish</td>\n",
              "      <td>37.0</td>\n",
              "      <td>4</td>\n",
              "      <td>2015</td>\n",
              "    </tr>\n",
              "    <tr>\n",
              "      <th>2</th>\n",
              "      <td>Chicago</td>\n",
              "      <td>Spanish</td>\n",
              "      <td>27.0</td>\n",
              "      <td>4</td>\n",
              "      <td>2015</td>\n",
              "    </tr>\n",
              "    <tr>\n",
              "      <th>3</th>\n",
              "      <td>Chicago</td>\n",
              "      <td>Polish</td>\n",
              "      <td>10.0</td>\n",
              "      <td>4</td>\n",
              "      <td>2015</td>\n",
              "    </tr>\n",
              "    <tr>\n",
              "      <th>4</th>\n",
              "      <td>Chicago</td>\n",
              "      <td>Spanish</td>\n",
              "      <td>5.0</td>\n",
              "      <td>4</td>\n",
              "      <td>2015</td>\n",
              "    </tr>\n",
              "  </tbody>\n",
              "</table>\n",
              "</div>"
            ],
            "text/plain": [
              "     State Language  Minutes  Month  Year\n",
              "0   Austin  Spanish     27.0      4  2015\n",
              "1  Chicago   Polish     37.0      4  2015\n",
              "2  Chicago  Spanish     27.0      4  2015\n",
              "3  Chicago   Polish     10.0      4  2015\n",
              "4  Chicago  Spanish      5.0      4  2015"
            ]
          },
          "metadata": {
            "tags": []
          },
          "execution_count": 2
        }
      ]
    },
    {
      "cell_type": "markdown",
      "metadata": {
        "id": "tM4xoCOwyep5",
        "colab_type": "text"
      },
      "source": [
        "The current dataset has two categorical predictors wich must be turn into numerical columns applying feature engineering , before feed the ML model which will accept exclusively numeric predictors. For this purpose I use a method within the library *Sklearn.preprocesing* called **LabelEncoder**. Since this point on, I will point out the new replacement columns as below:\n",
        "\n",
        "* Language = language_encode\n",
        "* State = state_encode\n",
        "\n",
        "Now , this dataset could be ready to break down among predictors and target."
      ]
    },
    {
      "cell_type": "code",
      "metadata": {
        "id": "vFNVN184ye4u",
        "colab_type": "code",
        "outputId": "457cf308-eefc-45d1-9b44-32f3495ec9ba",
        "colab": {
          "base_uri": "https://localhost:8080/",
          "height": 204
        }
      },
      "source": [
        "from sklearn.preprocessing import LabelEncoder\n",
        "\n",
        "gle = LabelEncoder()\n",
        "lngencoder = gle.fit_transform(df['Language'])\n",
        "lngencoder_mp = {index: label for index, label in \n",
        "                  enumerate(gle.classes_)}\n",
        "\n",
        "stencoder = gle.fit_transform(df['State'])\n",
        "\n",
        "df['language_encode'] = lngencoder\n",
        "df['state_encode'] = stencoder\n",
        "df.head(n=5)"
      ],
      "execution_count": 3,
      "outputs": [
        {
          "output_type": "execute_result",
          "data": {
            "text/html": [
              "<div>\n",
              "<style scoped>\n",
              "    .dataframe tbody tr th:only-of-type {\n",
              "        vertical-align: middle;\n",
              "    }\n",
              "\n",
              "    .dataframe tbody tr th {\n",
              "        vertical-align: top;\n",
              "    }\n",
              "\n",
              "    .dataframe thead th {\n",
              "        text-align: right;\n",
              "    }\n",
              "</style>\n",
              "<table border=\"1\" class=\"dataframe\">\n",
              "  <thead>\n",
              "    <tr style=\"text-align: right;\">\n",
              "      <th></th>\n",
              "      <th>State</th>\n",
              "      <th>Language</th>\n",
              "      <th>Minutes</th>\n",
              "      <th>Month</th>\n",
              "      <th>Year</th>\n",
              "      <th>language_encode</th>\n",
              "      <th>state_encode</th>\n",
              "    </tr>\n",
              "  </thead>\n",
              "  <tbody>\n",
              "    <tr>\n",
              "      <th>0</th>\n",
              "      <td>Austin</td>\n",
              "      <td>Spanish</td>\n",
              "      <td>27.0</td>\n",
              "      <td>4</td>\n",
              "      <td>2015</td>\n",
              "      <td>42</td>\n",
              "      <td>5</td>\n",
              "    </tr>\n",
              "    <tr>\n",
              "      <th>1</th>\n",
              "      <td>Chicago</td>\n",
              "      <td>Polish</td>\n",
              "      <td>37.0</td>\n",
              "      <td>4</td>\n",
              "      <td>2015</td>\n",
              "      <td>34</td>\n",
              "      <td>14</td>\n",
              "    </tr>\n",
              "    <tr>\n",
              "      <th>2</th>\n",
              "      <td>Chicago</td>\n",
              "      <td>Spanish</td>\n",
              "      <td>27.0</td>\n",
              "      <td>4</td>\n",
              "      <td>2015</td>\n",
              "      <td>42</td>\n",
              "      <td>14</td>\n",
              "    </tr>\n",
              "    <tr>\n",
              "      <th>3</th>\n",
              "      <td>Chicago</td>\n",
              "      <td>Polish</td>\n",
              "      <td>10.0</td>\n",
              "      <td>4</td>\n",
              "      <td>2015</td>\n",
              "      <td>34</td>\n",
              "      <td>14</td>\n",
              "    </tr>\n",
              "    <tr>\n",
              "      <th>4</th>\n",
              "      <td>Chicago</td>\n",
              "      <td>Spanish</td>\n",
              "      <td>5.0</td>\n",
              "      <td>4</td>\n",
              "      <td>2015</td>\n",
              "      <td>42</td>\n",
              "      <td>14</td>\n",
              "    </tr>\n",
              "  </tbody>\n",
              "</table>\n",
              "</div>"
            ],
            "text/plain": [
              "     State Language  Minutes  Month  Year  language_encode  state_encode\n",
              "0   Austin  Spanish     27.0      4  2015               42             5\n",
              "1  Chicago   Polish     37.0      4  2015               34            14\n",
              "2  Chicago  Spanish     27.0      4  2015               42            14\n",
              "3  Chicago   Polish     10.0      4  2015               34            14\n",
              "4  Chicago  Spanish      5.0      4  2015               42            14"
            ]
          },
          "metadata": {
            "tags": []
          },
          "execution_count": 3
        }
      ]
    },
    {
      "cell_type": "markdown",
      "metadata": {
        "id": "qowKV5Fe4DZC",
        "colab_type": "text"
      },
      "source": [
        "**Goal: Predict the lenght time for a call according to an specific state, language and month.** In order to achieve this ideal preduction I have to break down properly my predictors and my target as below:\n",
        "\n",
        "* Predictors: Month, Year, Language and State\n",
        "* Target: Minutes\n",
        "\n",
        "The first action then is create two new dataframes based on the description above."
      ]
    },
    {
      "cell_type": "code",
      "metadata": {
        "id": "HjN2p3b04DmT",
        "colab_type": "code",
        "colab": {}
      },
      "source": [
        "X = df[['Month','Year','language_encode','state_encode']]\n",
        "Y = df['Minutes']"
      ],
      "execution_count": 0,
      "outputs": []
    },
    {
      "cell_type": "markdown",
      "metadata": {
        "id": "iFKLdPmy0U-b",
        "colab_type": "text"
      },
      "source": [
        "I plot the two most important predictors versus our target to validate the linear correlation between these two , in order to guarantee the good pick over the ML model.\n"
      ]
    },
    {
      "cell_type": "code",
      "metadata": {
        "id": "azass9mIqKnT",
        "colab_type": "code",
        "colab": {
          "base_uri": "https://localhost:8080/",
          "height": 338
        },
        "outputId": "42b7eacc-4549-47a0-bb7a-c149719071c1"
      },
      "source": [
        "import seaborn as sns\n",
        "import matplotlib.pyplot as plt\n",
        "\n",
        "f, (ax1, ax2) = plt.subplots(ncols=2, sharey=True,figsize=(15,5))\n",
        "sns.set_palette(\"deep\")\n",
        "sns.lineplot(x='language_encode',y='Minutes',data=df,ax=ax1)\n",
        "sns.lineplot(x='state_encode',y='Minutes',data=df,ax=ax2,color=\"orange\")\n",
        "plt.show()\n"
      ],
      "execution_count": 81,
      "outputs": [
        {
          "output_type": "display_data",
          "data": {
            "image/png": "[encoded data removed]",
            "text/plain": [
              "<Figure size 1080x360 with 2 Axes>"
            ]
          },
          "metadata": {
            "tags": []
          }
        }
      ]
    },
    {
      "cell_type": "markdown",
      "metadata": {
        "id": "CzbLEbTnk33f",
        "colab_type": "text"
      },
      "source": [
        "Before build any ML model I break down the datasets between the *test* and *training* chunks to feed the models and then check out the predictions. The same breaking data will work for both models"
      ]
    },
    {
      "cell_type": "code",
      "metadata": {
        "id": "8dVC1Em0k4O0",
        "colab_type": "code",
        "colab": {}
      },
      "source": [
        "from sklearn.model_selection import train_test_split\n",
        "\n",
        "# Split data \n",
        "X_train, X_test, y_train, y_test = train_test_split(X , Y , test_size=0.33,random_state = 33)\n"
      ],
      "execution_count": 0,
      "outputs": []
    },
    {
      "cell_type": "markdown",
      "metadata": {
        "id": "ODUzjYiO3Qrv",
        "colab_type": "text"
      },
      "source": [
        "**Linear regression model**"
      ]
    },
    {
      "cell_type": "code",
      "metadata": {
        "id": "uCrYoN5h3SDv",
        "colab_type": "code",
        "colab": {}
      },
      "source": [
        "from sklearn import datasets, linear_model\n",
        "\n",
        "#Build model\n",
        "model_lr = linear_model.LinearRegression()\n",
        "model_lr.fit(X_train,y_train)\n",
        "\n",
        "# Predictions for lr\n",
        "pred_lr_y = model_lr.predict(X_test)"
      ],
      "execution_count": 0,
      "outputs": []
    },
    {
      "cell_type": "markdown",
      "metadata": {
        "id": "dKSDkdkp6jnj",
        "colab_type": "text"
      },
      "source": [
        "**Classification Decision Tree**"
      ]
    },
    {
      "cell_type": "code",
      "metadata": {
        "id": "QCzdruwo6j4h",
        "colab_type": "code",
        "colab": {}
      },
      "source": [
        "from sklearn import tree\n",
        "\n",
        "#Build model\n",
        "model_tree = tree.DecisionTreeClassifier(max_depth=2)\n",
        "model_tree.fit(X_train,y_train)\n",
        "\n",
        "#Predictions for classifier\n",
        "pred_tree_y = model_tree.predict(X_test)"
      ],
      "execution_count": 0,
      "outputs": []
    },
    {
      "cell_type": "markdown",
      "metadata": {
        "id": "iAWvn2Nc73t6",
        "colab_type": "text"
      },
      "source": [
        ""
      ]
    },
    {
      "cell_type": "code",
      "metadata": {
        "id": "faWIDoCe731I",
        "colab_type": "code",
        "colab": {
          "base_uri": "https://localhost:8080/",
          "height": 68
        },
        "outputId": "8e2ffe9d-6495-477e-c9fb-f6f17a499c9d"
      },
      "source": [
        "from sklearn import metrics\n",
        "\n",
        "print(X_test.shape,y_test.shape)\n",
        "print(model_lr.coef_)\n",
        "print(metrics.mean_squared_error(y_test,pred_lr_y ,multioutput='raw_values'))\n",
        "\n",
        "# plt.scatter(X_test , y_test)\n",
        "# plt.plot(X_test, pred_lr_y  , linewidth=3)\n",
        "\n",
        "# print(y_test.size\n",
        "# ,pred_lr_y.size)"
      ],
      "execution_count": 100,
      "outputs": [
        {
          "output_type": "stream",
          "text": [
            "(1310, 4) (1310,)\n",
            "[ 0.          0.29034754 -0.02889698 -0.02062413]\n",
            "[138.30167124]\n"
          ],
          "name": "stdout"
        }
      ]
    }
  ]
}