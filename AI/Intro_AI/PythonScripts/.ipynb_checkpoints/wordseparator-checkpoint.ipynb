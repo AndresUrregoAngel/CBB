{
 "cells": [
  {
   "cell_type": "code",
   "execution_count": 23,
   "metadata": {},
   "outputs": [
    {
     "name": "stdout",
     "output_type": "stream",
     "text": [
      "Donnez une  phrase:le;climat:change tout le temps\n",
      "---------- separateurs ----------\n",
      "['le', 'climat', 'change', 'tout', 'le', 'temps']\n"
     ]
    }
   ],
   "source": [
    "import re\n",
    "\n",
    "phrase = input(\"Donnez une  phrase:\")\n",
    "#le;climat:change tout le temps\n",
    "\n",
    "def getwords(phrase):\n",
    "    \n",
    "    sep ={ \n",
    "        \",\" : \" \",\n",
    "        \":\" : \" \",\n",
    "        \";\" : \" \"\n",
    "    }\n",
    "\n",
    "    def replace_all(text, dic):\n",
    "        for i, j in dic.items():\n",
    "            text = text.replace(i, j)\n",
    "        return text\n",
    "    \n",
    "    phrasecln = replace_all(phrase,sep)\n",
    "    \n",
    "    l = []\n",
    "    print(\"-\"*10,'separateurs',\"-\"*10)\n",
    "    for line in phrasecln.split(' '):\n",
    "        l.append(line)\n",
    "    \n",
    "    print(l)\n",
    "        \n",
    "getwords(phrase)"
   ]
  }
 ],
 "metadata": {
  "kernelspec": {
   "display_name": "Python 3",
   "language": "python",
   "name": "python3"
  },
  "language_info": {
   "codemirror_mode": {
    "name": "ipython",
    "version": 3
   },
   "file_extension": ".py",
   "mimetype": "text/x-python",
   "name": "python",
   "nbconvert_exporter": "python",
   "pygments_lexer": "ipython3",
   "version": "3.6.3"
  }
 },
 "nbformat": 4,
 "nbformat_minor": 2
}
