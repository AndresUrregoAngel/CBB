{
 "cells": [
  {
   "cell_type": "code",
   "execution_count": 4,
   "metadata": {},
   "outputs": [
    {
     "name": "stdout",
     "output_type": "stream",
     "text": [
      "svp saissez votre mot:nettoyages\n",
      "method 1: length 10\n",
      "method 2: length 10\n"
     ]
    }
   ],
   "source": [
    "# Read the word input from user\n",
    "\n",
    "word = input(\"svp saissez votre mot:\")\n",
    "\n",
    "def length_method1(word):\n",
    "    print(\"method 1: length {}\".format(len(word)))\n",
    "\n",
    "\n",
    "def length_method2(word):\n",
    "    l = []\n",
    "    for position in range(len(word)):\n",
    "        l.append(word[position])\n",
    "        \n",
    "    print(\"method 2: length {}\".format(len(l)))\n",
    "\n",
    "length_method1(word)\n",
    "length_method2(word)\n"
   ]
  }
 ],
 "metadata": {
  "kernelspec": {
   "display_name": "Python 3",
   "language": "python",
   "name": "python3"
  },
  "language_info": {
   "codemirror_mode": {
    "name": "ipython",
    "version": 3
   },
   "file_extension": ".py",
   "mimetype": "text/x-python",
   "name": "python",
   "nbconvert_exporter": "python",
   "pygments_lexer": "ipython3",
   "version": "3.6.3"
  }
 },
 "nbformat": 4,
 "nbformat_minor": 2
}
