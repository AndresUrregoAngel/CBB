{
 "cells": [
  {
   "cell_type": "code",
   "execution_count": 19,
   "metadata": {},
   "outputs": [],
   "source": [
    "def generalcounter(word,l,p):\n",
    "    \n",
    "    counter = 0\n",
    "    for position in range(len(word)):\n",
    "        if word[position].lower() in l:\n",
    "            counter += 1\n",
    "    \n",
    "  \n",
    "    return print(\"{} times of {}\".format(counter,p))\n",
    "\n",
    "\n",
    "def elementcounter(word,l,p):\n",
    "\n",
    "    for element in l:\n",
    "        if element in word:\n",
    "            ecounter=0\n",
    "            for position in range(len(word)):\n",
    "                if word[position].lower() == element:\n",
    "                        ecounter += 1\n",
    "\n",
    "            print(\"{} times the {} {}\".\n",
    "                      format(ecounter,p,element))\n",
    "        else:\n",
    "            print('0 times the {} {}'.format(p,element))\n",
    "    \n",
    "    \n",
    "def wordanalizer(word):\n",
    "    \n",
    "    vowels = ['a','e','i','o','u']\n",
    "    alphabet = ['b','c','d','f','g','h','j','k','l','m','n','p','q','r','s','t','v','w','x','y','z']\n",
    "    \n",
    "    #Vowels general\n",
    "    generalcounter(word,vowels,'vowels')\n",
    "    #Letters\n",
    "    generalcounter(word,alphabet,'letters')\n",
    "    \n",
    "    #Vowels as element\n",
    "    elementcounter(word,vowels,'vowels')\n",
    "    #Letters as element\n",
    "    elementcounter(word,alphabet,'letters')\n",
    "    "
   ]
  },
  {
   "cell_type": "markdown",
   "metadata": {},
   "source": [
    "Une fois nous avons bâti la structure du program base sure une méthode principal qui exécute deux méthodes pour trouver les comptes pour chacun des éléments voyelles ou de consonnes. Finalement le résultat s’affiche comme il suive : "
   ]
  },
  {
   "cell_type": "code",
   "execution_count": 20,
   "metadata": {},
   "outputs": [
    {
     "name": "stdout",
     "output_type": "stream",
     "text": [
      "6 times of vowels\n",
      "8 times of letters\n",
      "1 times the vowels a\n",
      "3 times the vowels e\n",
      "1 times the vowels i\n",
      "1 times the vowels o\n",
      "0 times the vowels u\n",
      "0 times the letters b\n",
      "0 times the letters c\n",
      "0 times the letters d\n",
      "0 times the letters f\n",
      "0 times the letters g\n",
      "0 times the letters h\n",
      "0 times the letters j\n",
      "0 times the letters k\n",
      "0 times the letters l\n",
      "0 times the letters m\n",
      "2 times the letters n\n",
      "1 times the letters p\n",
      "0 times the letters q\n",
      "2 times the letters r\n",
      "1 times the letters s\n",
      "2 times the letters t\n",
      "0 times the letters v\n",
      "0 times the letters w\n",
      "0 times the letters x\n",
      "0 times the letters y\n",
      "0 times the letters z\n"
     ]
    }
   ],
   "source": [
    "wordanalizer(\"representation\")"
   ]
  }
 ],
 "metadata": {
  "kernelspec": {
   "display_name": "Python 3",
   "language": "python",
   "name": "python3"
  },
  "language_info": {
   "codemirror_mode": {
    "name": "ipython",
    "version": 3
   },
   "file_extension": ".py",
   "mimetype": "text/x-python",
   "name": "python",
   "nbconvert_exporter": "python",
   "pygments_lexer": "ipython3",
   "version": "3.6.3"
  }
 },
 "nbformat": 4,
 "nbformat_minor": 2
}
